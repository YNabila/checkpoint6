{
 "cells": [
  {
   "cell_type": "code",
   "execution_count": 2,
   "id": "f009dcab",
   "metadata": {},
   "outputs": [
    {
     "name": "stdout",
     "output_type": "stream",
     "text": [
      "[[[3 2]\n",
      "  [5 6]]\n",
      "\n",
      " [[0 0]\n",
      "  [1 1]]]\n"
     ]
    }
   ],
   "source": [
    "import numpy as np\n",
    "a=np.array([[[3,2],[5,6]],[[0,0],[1,1]]])\n",
    "print(a)"
   ]
  },
  {
   "cell_type": "code",
   "execution_count": 3,
   "id": "e248e275",
   "metadata": {},
   "outputs": [
    {
     "name": "stdout",
     "output_type": "stream",
     "text": [
      "[[[3, 2], [5, 6]], [[0, 0], [1, 1]]]\n"
     ]
    }
   ],
   "source": [
    "c=a.tolist()\n",
    "print(c)"
   ]
  },
  {
   "cell_type": "code",
   "execution_count": 4,
   "id": "dc0ebab9",
   "metadata": {},
   "outputs": [],
   "source": [
    "matrice=np.array([[5,4,2,3],[2,8,9,7],[10,11,13,12],[14,15,16,17]])"
   ]
  },
  {
   "cell_type": "code",
   "execution_count": 5,
   "id": "d7f73c36",
   "metadata": {},
   "outputs": [],
   "source": [
    "def sumDiagonal(q2):\n",
    "    d=0\n",
    "    l=q2.shape\n",
    "    if l[0]==l[1]:\n",
    "        for i in range(0,l[0]):\n",
    "            d=d+q2[i,i]\n",
    "    return d"
   ]
  },
  {
   "cell_type": "code",
   "execution_count": 6,
   "id": "8c6c9ab5",
   "metadata": {},
   "outputs": [
    {
     "data": {
      "text/plain": [
       "43"
      ]
     },
     "execution_count": 6,
     "metadata": {},
     "output_type": "execute_result"
    }
   ],
   "source": [
    "sumDiagonal(matrice)"
   ]
  },
  {
   "cell_type": "code",
   "execution_count": 7,
   "id": "dc29ba90",
   "metadata": {},
   "outputs": [],
   "source": [
    "def question3(q3,x):\n",
    "    lis=[]\n",
    "    l=q3.shape\n",
    "    for i in range(0,l[0]):\n",
    "        for j in range(0,l[1]):\n",
    "            if q3[i,j]>x:\n",
    "                lis.append(q3[i,j])\n",
    "    return lis"
   ]
  },
  {
   "cell_type": "code",
   "execution_count": 9,
   "id": "a1efe4bf",
   "metadata": {},
   "outputs": [
    {
     "name": "stdout",
     "output_type": "stream",
     "text": [
      "[5, 4, 3, 8, 9, 7, 10, 11, 13, 12, 14, 15, 16, 17]\n"
     ]
    }
   ],
   "source": [
    "a=question3(matrice,2)\n",
    "print(a)"
   ]
  },
  {
   "cell_type": "code",
   "execution_count": 10,
   "id": "d7958cbb",
   "metadata": {},
   "outputs": [
    {
     "name": "stdout",
     "output_type": "stream",
     "text": [
      "[[ 5  4  2  3]\n",
      " [ 2  8  9  7]\n",
      " [10 11 13 12]\n",
      " [14 15 16 17]]\n"
     ]
    }
   ],
   "source": [
    "A=np.array([[5,4,2,3],[2,8,9,7],[10,11,13,12],[14,15,16,17]])\n",
    "B=np.array([[2,8,9,7],[10,3,3,15],[7,5,6,7],[5,4,2,3]])\n",
    "print(A)"
   ]
  },
  {
   "cell_type": "code",
   "execution_count": 11,
   "id": "bab5d779",
   "metadata": {},
   "outputs": [],
   "source": [
    "def question4(a,b):\n",
    "\n",
    "    if a.shape==b.shape:\n",
    "        l=a.shape\n",
    "        c=np.zeros(l)\n",
    "        for i in range(0,l[0]):\n",
    "            for j in range(0,l[1]):\n",
    "                c[i,j]=a[i,j]+b[i,j]\n",
    "    else:\n",
    "        print(\"impossible\")\n",
    "    return c\n"
   ]
  },
  {
   "cell_type": "code",
   "execution_count": 12,
   "id": "b9f7ee5a",
   "metadata": {},
   "outputs": [
    {
     "data": {
      "text/plain": [
       "array([[ 7., 12., 11., 10.],\n",
       "       [12., 11., 12., 22.],\n",
       "       [17., 16., 19., 19.],\n",
       "       [19., 19., 18., 20.]])"
      ]
     },
     "execution_count": 12,
     "metadata": {},
     "output_type": "execute_result"
    }
   ],
   "source": [
    "question4(A,B)"
   ]
  },
  {
   "cell_type": "code",
   "execution_count": 13,
   "id": "993d1b7d",
   "metadata": {},
   "outputs": [],
   "source": [
    "import statistics\n",
    "def question5(a):\n",
    "    l=a.shape\n",
    "    c=a\n",
    "    for i in range(0,l[0]):\n",
    "        m=statistics.mean(a[i,:])\n",
    "        for j in range(0,l[1]):\n",
    "            c[i,j]=c[i,j]-m\n",
    "    return c"
   ]
  },
  {
   "cell_type": "code",
   "execution_count": 14,
   "id": "999081f2",
   "metadata": {},
   "outputs": [
    {
     "data": {
      "text/plain": [
       "array([[ 2,  1, -1,  0],\n",
       "       [-4,  2,  3,  1],\n",
       "       [-1,  0,  2,  1],\n",
       "       [-1,  0,  1,  2]])"
      ]
     },
     "execution_count": 14,
     "metadata": {},
     "output_type": "execute_result"
    }
   ],
   "source": [
    "question5(A)"
   ]
  },
  {
   "cell_type": "code",
   "execution_count": null,
   "id": "b6986454",
   "metadata": {},
   "outputs": [],
   "source": []
  }
 ],
 "metadata": {
  "kernelspec": {
   "display_name": "Python 3 (ipykernel)",
   "language": "python",
   "name": "python3"
  },
  "language_info": {
   "codemirror_mode": {
    "name": "ipython",
    "version": 3
   },
   "file_extension": ".py",
   "mimetype": "text/x-python",
   "name": "python",
   "nbconvert_exporter": "python",
   "pygments_lexer": "ipython3",
   "version": "3.9.12"
  }
 },
 "nbformat": 4,
 "nbformat_minor": 5
}
